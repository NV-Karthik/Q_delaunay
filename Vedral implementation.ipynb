{
 "cells": [
  {
   "cell_type": "code",
   "execution_count": 1,
   "id": "9311603c",
   "metadata": {},
   "outputs": [],
   "source": [
    "from qiskit import *\n",
    "from qiskit.circuit.library import DraperQFTAdder, CXGate, CCXGate, MCXGate\n",
    "from qiskit.quantum_info import Statevector, partial_trace\n",
    "from qiskit import Aer\n",
    "from qiskit_ibm_provider import IBMProvider\n",
    "from qiskit.visualization import plot_histogram\n",
    "\n",
    "import time"
   ]
  },
  {
   "cell_type": "code",
   "execution_count": 2,
   "id": "294e56a9",
   "metadata": {},
   "outputs": [
    {
     "data": {
      "text/html": [
       "<pre style=\"word-wrap: normal;white-space: pre;background: #fff0;line-height: 1.1;font-family: &quot;Courier New&quot;,Courier,monospace\">                    \n",
       "q_0: ────────────■──\n",
       "                 │  \n",
       "q_1: ──■────■────┼──\n",
       "       │  ┌─┴─┐  │  \n",
       "q_2: ──■──┤ X ├──■──\n",
       "     ┌─┴─┐└───┘┌─┴─┐\n",
       "q_3: ┤ X ├─────┤ X ├\n",
       "     └───┘     └───┘</pre>"
      ],
      "text/plain": [
       "                    \n",
       "q_0: ────────────■──\n",
       "                 │  \n",
       "q_1: ──■────■────┼──\n",
       "       │  ┌─┴─┐  │  \n",
       "q_2: ──■──┤ X ├──■──\n",
       "     ┌─┴─┐└───┘┌─┴─┐\n",
       "q_3: ┤ X ├─────┤ X ├\n",
       "     └───┘     └───┘"
      ]
     },
     "execution_count": 2,
     "metadata": {},
     "output_type": "execute_result"
    }
   ],
   "source": [
    "# carry gate \n",
    "\n",
    "# |0> - previous carry\n",
    "# |1> - a bit (addend bit)\n",
    "# |2> - b bit (addend bit)\n",
    "# |3> - c bit next carry bit\n",
    "\n",
    "carry_circ = QuantumCircuit(4, name='carry')\n",
    "carry_circ.ccx(1, 2, 3)\n",
    "carry_circ.cx(1, 2)\n",
    "carry_circ.ccx(0, 2, 3)\n",
    "\n",
    "carry = carry_circ.to_gate()\n",
    "\n",
    "carry_inv = carry.inverse()\n",
    "\n",
    "carry_circ.draw()"
   ]
  },
  {
   "cell_type": "code",
   "execution_count": 3,
   "id": "fcb1aec6",
   "metadata": {},
   "outputs": [
    {
     "data": {
      "text/html": [
       "<pre style=\"word-wrap: normal;white-space: pre;background: #fff0;line-height: 1.1;font-family: &quot;Courier New&quot;,Courier,monospace\">               \n",
       "q_0: ───────■──\n",
       "            │  \n",
       "q_1: ──■────┼──\n",
       "     ┌─┴─┐┌─┴─┐\n",
       "q_2: ┤ X ├┤ X ├\n",
       "     └───┘└───┘</pre>"
      ],
      "text/plain": [
       "               \n",
       "q_0: ───────■──\n",
       "            │  \n",
       "q_1: ──■────┼──\n",
       "     ┌─┴─┐┌─┴─┐\n",
       "q_2: ┤ X ├┤ X ├\n",
       "     └───┘└───┘"
      ]
     },
     "execution_count": 3,
     "metadata": {},
     "output_type": "execute_result"
    }
   ],
   "source": [
    "# sum gate\n",
    "sum_circ = QuantumCircuit(3, name='sum')\n",
    "sum_circ.cx(1, 2)\n",
    "sum_circ.cx(0, 2)\n",
    "\n",
    "sum_gate = sum_circ.to_gate()\n",
    "\n",
    "sum_circ.draw()"
   ]
  },
  {
   "cell_type": "code",
   "execution_count": 6,
   "id": "7d3ea126",
   "metadata": {},
   "outputs": [],
   "source": [
    "# plain adder circuit\n",
    "def add(a, b):\n",
    "\n",
    "    if (a > b):\n",
    "        num_qubits = len(str(bin(a))) - 2\n",
    "    else:\n",
    "        num_qubits = len(str(bin(b))) - 2\n",
    "        \n",
    "    if num_qubits > 9:\n",
    "        raise Exception('Qubit limit of simulator exceeded, each addend should be less than 511')\n",
    "    \n",
    "    # creating the circuits\n",
    "    qr_a = QuantumRegister(num_qubits, name='a')\n",
    "    qr_b = QuantumRegister(num_qubits + 1, name='b')\n",
    "    qr_c = QuantumRegister(num_qubits, name='c') # Carry qubits\n",
    "    cl = ClassicalRegister(num_qubits + 1, name='cl') # for measurements\n",
    "    adder = QuantumCircuit(qr_a, qr_b, qr_c, cl)\n",
    "    \n",
    "    # initializing the state with the input values\n",
    "    state_a = Statevector.from_int(a, 2**num_qubits)\n",
    "    state_b = Statevector.from_int(b, 2**(num_qubits+1))\n",
    "    state_c = Statevector.from_int(0, 2**num_qubits)\n",
    "    adder.initialize(state_a, range(num_qubits)) # 0, 1, 2\n",
    "    adder.initialize(state_b, range(num_qubits, 2*num_qubits+1)) # 3, 4, 5, 6\n",
    "    adder.initialize(state_c, range(2*num_qubits+1, 3*num_qubits+1)) # 7, 8, 9\n",
    "    \n",
    "    # adding carry gates\n",
    "    for i in range(num_qubits - 1):\n",
    "        adder.append(carry, [qr_c[i], qr_a[i], qr_b[i], qr_c[i+1]])\n",
    "\n",
    "    # for last iteration carry gate stores things differently\n",
    "    adder.append(carry, [qr_c[num_qubits-1], qr_a[num_qubits-1], qr_b[num_qubits-1], qr_b[num_qubits]])\n",
    "\n",
    "    # reversing whole stuff up\n",
    "\n",
    "    # last iteration again\n",
    "    adder.cx(qr_c[num_qubits-1], qr_b[num_qubits-1])\n",
    "\n",
    "    # rest of them\n",
    "    for i in range(num_qubits - 1):\n",
    "        adder.append(carry_inv, [qr_c[(num_qubits-2)-i], qr_a[(num_qubits-2)-i], qr_b[(num_qubits-2)-i], qr_c[(num_qubits-1)-i]])\n",
    "        adder.append(sum_gate, [qr_a[(num_qubits-2)-i], qr_c[(num_qubits-2)-i], qr_b[(num_qubits-2)-i]])\n",
    "\n",
    "    adder.barrier() # necessary to separate out mesaurement gates together\n",
    "    \n",
    "    # measurement into classical qubits\n",
    "    for i in range(num_qubits + 1):\n",
    "        adder.measure(qr_b[i], cl[i])\n",
    "    \n",
    "    # simulating for results - using qasm simulator\n",
    "    simulator = Aer.get_backend('aer_simulator')\n",
    "    job = simulator.run(transpile(adder, backend=simulator))\n",
    "    counts = job.result().get_counts(adder)\n",
    "\n",
    "#     # ibm cloud simulator - gives transpile errors\n",
    "#     provider = IBMProvider()\n",
    "#     backend = provider.get_backend('ibmq_qasm_simulator')\n",
    "#     job = backend.run(transpile(adder, backend=backend))\n",
    "#     counts = job.result().get_counts(adder)\n",
    "    \n",
    "    \n",
    "    return int(list(counts.keys())[0], 2)"
   ]
  },
  {
   "cell_type": "code",
   "execution_count": 7,
   "id": "dc5ccf6d",
   "metadata": {},
   "outputs": [
    {
     "name": "stdout",
     "output_type": "stream",
     "text": [
      "9 time taken: 2.538285732269287\n"
     ]
    }
   ],
   "source": [
    "start1 = time.time()\n",
    "\n",
    "res1 = add(5, 4)\n",
    "\n",
    "timing1 = time.time() - start1\n",
    "\n",
    "print(res1, f'time taken: {timing1}')"
   ]
  },
  {
   "cell_type": "code",
   "execution_count": null,
   "id": "f0a7d183",
   "metadata": {},
   "outputs": [],
   "source": [
    "start2 = time.time()\n",
    "\n",
    "res2 = add(45, 40)\n",
    "\n",
    "timing2 = time.time() - start2\n",
    "\n",
    "print(res2, f'time taken: {timing2}')"
   ]
  },
  {
   "cell_type": "code",
   "execution_count": null,
   "id": "ab150f8d",
   "metadata": {},
   "outputs": [],
   "source": [
    "start3 = time.time()\n",
    "\n",
    "res3 = add(4, 100)\n",
    "\n",
    "timing3 = time.time() - start3\n",
    "\n",
    "print(res3, f'time taken: {timing3}')"
   ]
  },
  {
   "cell_type": "code",
   "execution_count": null,
   "id": "a23a870d",
   "metadata": {},
   "outputs": [],
   "source": [
    "start4 = time.time()\n",
    "\n",
    "res4 = add(200, 400)\n",
    "\n",
    "timing4 = time.time() - start4\n",
    "\n",
    "print(res4, f'time taken: {timing4}')"
   ]
  },
  {
   "cell_type": "code",
   "execution_count": null,
   "id": "07339570",
   "metadata": {},
   "outputs": [],
   "source": [
    "print(add(-5, 15)) # wrong answer"
   ]
  },
  {
   "cell_type": "markdown",
   "id": "8a067f84",
   "metadata": {},
   "source": [
    "### Fixing transpile error --- ignore this section"
   ]
  },
  {
   "cell_type": "code",
   "execution_count": 16,
   "id": "6f8f49f3",
   "metadata": {},
   "outputs": [
    {
     "ename": "TranspilerError",
     "evalue": "\"Unable to translate the operations in the circuit: ['cx', 'carry'] to the backend's (or manually specified) target basis: ['reset', 'delay', 'carry', 'CXGate', 'barrier', 'snapshot', 'measure', 'sum_gate']. This likely means the target basis is not universal or there are additional equivalence rules needed in the EquivalenceLibrary being used. For more details on this error see: https://qiskit.org/documentation/stubs/qiskit.transpiler.passes.BasisTranslator.html#translation_errors\"",
     "output_type": "error",
     "traceback": [
      "\u001b[1;31m---------------------------------------------------------------------------\u001b[0m",
      "\u001b[1;31mTranspilerError\u001b[0m                           Traceback (most recent call last)",
      "Cell \u001b[1;32mIn[16], line 2\u001b[0m\n\u001b[0;32m      1\u001b[0m \u001b[38;5;66;03m# telling transpiler not to decompose\u001b[39;00m\n\u001b[1;32m----> 2\u001b[0m qc_transed \u001b[38;5;241m=\u001b[39m \u001b[43mtranspile\u001b[49m\u001b[43m(\u001b[49m\u001b[43mcustom_circ\u001b[49m\u001b[43m,\u001b[49m\u001b[43m \u001b[49m\u001b[43mbasis_gates\u001b[49m\u001b[38;5;241;43m=\u001b[39;49m\u001b[43mbasis_gates\u001b[49m\u001b[43m)\u001b[49m\n\u001b[0;32m      3\u001b[0m qc_transed\u001b[38;5;241m.\u001b[39mdraw()\n",
      "File \u001b[1;32mD:\\dev\\qiskit\\qiskit-0-43-1\\lib\\site-packages\\qiskit\\compiler\\transpiler.py:380\u001b[0m, in \u001b[0;36mtranspile\u001b[1;34m(circuits, backend, basis_gates, inst_map, coupling_map, backend_properties, initial_layout, layout_method, routing_method, translation_method, scheduling_method, instruction_durations, dt, approximation_degree, timing_constraints, seed_transpiler, optimization_level, callback, output_name, unitary_synthesis_method, unitary_synthesis_plugin_config, target, hls_config, init_method, optimization_method, ignore_backend_supplied_default_methods)\u001b[0m\n\u001b[0;32m    377\u001b[0m     \u001b[38;5;28;01mfor\u001b[39;00m circuit, unique_args \u001b[38;5;129;01min\u001b[39;00m \u001b[38;5;28mzip\u001b[39m(circuits, unique_transpile_args):\n\u001b[0;32m    378\u001b[0m         transpile_config, pass_manager \u001b[38;5;241m=\u001b[39m _combine_args(shared_args, unique_args)\n\u001b[0;32m    379\u001b[0m         output_circuits\u001b[38;5;241m.\u001b[39mappend(\n\u001b[1;32m--> 380\u001b[0m             \u001b[43m_serial_transpile_circuit\u001b[49m\u001b[43m(\u001b[49m\n\u001b[0;32m    381\u001b[0m \u001b[43m                \u001b[49m\u001b[43mcircuit\u001b[49m\u001b[43m,\u001b[49m\n\u001b[0;32m    382\u001b[0m \u001b[43m                \u001b[49m\u001b[43mpass_manager\u001b[49m\u001b[43m,\u001b[49m\n\u001b[0;32m    383\u001b[0m \u001b[43m                \u001b[49m\u001b[43mtranspile_config\u001b[49m\u001b[43m[\u001b[49m\u001b[38;5;124;43m\"\u001b[39;49m\u001b[38;5;124;43mcallback\u001b[39;49m\u001b[38;5;124;43m\"\u001b[39;49m\u001b[43m]\u001b[49m\u001b[43m,\u001b[49m\n\u001b[0;32m    384\u001b[0m \u001b[43m                \u001b[49m\u001b[43mtranspile_config\u001b[49m\u001b[43m[\u001b[49m\u001b[38;5;124;43m\"\u001b[39;49m\u001b[38;5;124;43moutput_name\u001b[39;49m\u001b[38;5;124;43m\"\u001b[39;49m\u001b[43m]\u001b[49m\u001b[43m,\u001b[49m\n\u001b[0;32m    385\u001b[0m \u001b[43m            \u001b[49m\u001b[43m)\u001b[49m\n\u001b[0;32m    386\u001b[0m         )\n\u001b[0;32m    387\u001b[0m     circuits \u001b[38;5;241m=\u001b[39m output_circuits\n\u001b[0;32m    388\u001b[0m end_time \u001b[38;5;241m=\u001b[39m time()\n",
      "File \u001b[1;32mD:\\dev\\qiskit\\qiskit-0-43-1\\lib\\site-packages\\qiskit\\compiler\\transpiler.py:462\u001b[0m, in \u001b[0;36m_serial_transpile_circuit\u001b[1;34m(circuit, pass_manager, callback, output_name)\u001b[0m\n\u001b[0;32m    456\u001b[0m \u001b[38;5;28;01mdef\u001b[39;00m \u001b[38;5;21m_serial_transpile_circuit\u001b[39m(\n\u001b[0;32m    457\u001b[0m     circuit,\n\u001b[0;32m    458\u001b[0m     pass_manager,\n\u001b[0;32m    459\u001b[0m     callback,\n\u001b[0;32m    460\u001b[0m     output_name,\n\u001b[0;32m    461\u001b[0m ):\n\u001b[1;32m--> 462\u001b[0m     result \u001b[38;5;241m=\u001b[39m \u001b[43mpass_manager\u001b[49m\u001b[38;5;241;43m.\u001b[39;49m\u001b[43mrun\u001b[49m\u001b[43m(\u001b[49m\u001b[43mcircuit\u001b[49m\u001b[43m,\u001b[49m\u001b[43m \u001b[49m\u001b[43mcallback\u001b[49m\u001b[38;5;241;43m=\u001b[39;49m\u001b[43mcallback\u001b[49m\u001b[43m,\u001b[49m\u001b[43m \u001b[49m\u001b[43moutput_name\u001b[49m\u001b[38;5;241;43m=\u001b[39;49m\u001b[43moutput_name\u001b[49m\u001b[43m)\u001b[49m\n\u001b[0;32m    463\u001b[0m     \u001b[38;5;28;01mreturn\u001b[39;00m result\n",
      "File \u001b[1;32mD:\\dev\\qiskit\\qiskit-0-43-1\\lib\\site-packages\\qiskit\\transpiler\\passmanager.py:537\u001b[0m, in \u001b[0;36mStagedPassManager.run\u001b[1;34m(self, circuits, output_name, callback)\u001b[0m\n\u001b[0;32m    530\u001b[0m \u001b[38;5;28;01mdef\u001b[39;00m \u001b[38;5;21mrun\u001b[39m(\n\u001b[0;32m    531\u001b[0m     \u001b[38;5;28mself\u001b[39m,\n\u001b[0;32m    532\u001b[0m     circuits: _CircuitsT,\n\u001b[0;32m    533\u001b[0m     output_name: Optional[\u001b[38;5;28mstr\u001b[39m] \u001b[38;5;241m=\u001b[39m \u001b[38;5;28;01mNone\u001b[39;00m,\n\u001b[0;32m    534\u001b[0m     callback: Optional[Callable] \u001b[38;5;241m=\u001b[39m \u001b[38;5;28;01mNone\u001b[39;00m,\n\u001b[0;32m    535\u001b[0m ) \u001b[38;5;241m-\u001b[39m\u001b[38;5;241m>\u001b[39m _CircuitsT:\n\u001b[0;32m    536\u001b[0m     \u001b[38;5;28mself\u001b[39m\u001b[38;5;241m.\u001b[39m_update_passmanager()\n\u001b[1;32m--> 537\u001b[0m     \u001b[38;5;28;01mreturn\u001b[39;00m \u001b[38;5;28;43msuper\u001b[39;49m\u001b[43m(\u001b[49m\u001b[43m)\u001b[49m\u001b[38;5;241;43m.\u001b[39;49m\u001b[43mrun\u001b[49m\u001b[43m(\u001b[49m\u001b[43mcircuits\u001b[49m\u001b[43m,\u001b[49m\u001b[43m \u001b[49m\u001b[43moutput_name\u001b[49m\u001b[43m,\u001b[49m\u001b[43m \u001b[49m\u001b[43mcallback\u001b[49m\u001b[43m)\u001b[49m\n",
      "File \u001b[1;32mD:\\dev\\qiskit\\qiskit-0-43-1\\lib\\site-packages\\qiskit\\transpiler\\passmanager.py:231\u001b[0m, in \u001b[0;36mPassManager.run\u001b[1;34m(self, circuits, output_name, callback)\u001b[0m\n\u001b[0;32m    229\u001b[0m     \u001b[38;5;28;01mreturn\u001b[39;00m circuits\n\u001b[0;32m    230\u001b[0m \u001b[38;5;28;01mif\u001b[39;00m \u001b[38;5;28misinstance\u001b[39m(circuits, QuantumCircuit):\n\u001b[1;32m--> 231\u001b[0m     \u001b[38;5;28;01mreturn\u001b[39;00m \u001b[38;5;28;43mself\u001b[39;49m\u001b[38;5;241;43m.\u001b[39;49m\u001b[43m_run_single_circuit\u001b[49m\u001b[43m(\u001b[49m\u001b[43mcircuits\u001b[49m\u001b[43m,\u001b[49m\u001b[43m \u001b[49m\u001b[43moutput_name\u001b[49m\u001b[43m,\u001b[49m\u001b[43m \u001b[49m\u001b[43mcallback\u001b[49m\u001b[43m)\u001b[49m\n\u001b[0;32m    232\u001b[0m \u001b[38;5;28;01mif\u001b[39;00m \u001b[38;5;28mlen\u001b[39m(circuits) \u001b[38;5;241m==\u001b[39m \u001b[38;5;241m1\u001b[39m:\n\u001b[0;32m    233\u001b[0m     \u001b[38;5;28;01mreturn\u001b[39;00m [\u001b[38;5;28mself\u001b[39m\u001b[38;5;241m.\u001b[39m_run_single_circuit(circuits[\u001b[38;5;241m0\u001b[39m], output_name, callback)]\n",
      "File \u001b[1;32mD:\\dev\\qiskit\\qiskit-0-43-1\\lib\\site-packages\\qiskit\\transpiler\\passmanager.py:292\u001b[0m, in \u001b[0;36mPassManager._run_single_circuit\u001b[1;34m(self, circuit, output_name, callback)\u001b[0m\n\u001b[0;32m    280\u001b[0m \u001b[38;5;250m\u001b[39m\u001b[38;5;124;03m\"\"\"Run all the passes on a ``circuit``.\u001b[39;00m\n\u001b[0;32m    281\u001b[0m \n\u001b[0;32m    282\u001b[0m \u001b[38;5;124;03mArgs:\u001b[39;00m\n\u001b[1;32m   (...)\u001b[0m\n\u001b[0;32m    289\u001b[0m \u001b[38;5;124;03m    The transformed circuit.\u001b[39;00m\n\u001b[0;32m    290\u001b[0m \u001b[38;5;124;03m\"\"\"\u001b[39;00m\n\u001b[0;32m    291\u001b[0m running_passmanager \u001b[38;5;241m=\u001b[39m \u001b[38;5;28mself\u001b[39m\u001b[38;5;241m.\u001b[39m_create_running_passmanager()\n\u001b[1;32m--> 292\u001b[0m result \u001b[38;5;241m=\u001b[39m \u001b[43mrunning_passmanager\u001b[49m\u001b[38;5;241;43m.\u001b[39;49m\u001b[43mrun\u001b[49m\u001b[43m(\u001b[49m\u001b[43mcircuit\u001b[49m\u001b[43m,\u001b[49m\u001b[43m \u001b[49m\u001b[43moutput_name\u001b[49m\u001b[38;5;241;43m=\u001b[39;49m\u001b[43moutput_name\u001b[49m\u001b[43m,\u001b[49m\u001b[43m \u001b[49m\u001b[43mcallback\u001b[49m\u001b[38;5;241;43m=\u001b[39;49m\u001b[43mcallback\u001b[49m\u001b[43m)\u001b[49m\n\u001b[0;32m    293\u001b[0m \u001b[38;5;28mself\u001b[39m\u001b[38;5;241m.\u001b[39mproperty_set \u001b[38;5;241m=\u001b[39m running_passmanager\u001b[38;5;241m.\u001b[39mproperty_set\n\u001b[0;32m    294\u001b[0m \u001b[38;5;28;01mreturn\u001b[39;00m result\n",
      "File \u001b[1;32mD:\\dev\\qiskit\\qiskit-0-43-1\\lib\\site-packages\\qiskit\\transpiler\\runningpassmanager.py:125\u001b[0m, in \u001b[0;36mRunningPassManager.run\u001b[1;34m(***failed resolving arguments***)\u001b[0m\n\u001b[0;32m    123\u001b[0m \u001b[38;5;28;01mfor\u001b[39;00m passset \u001b[38;5;129;01min\u001b[39;00m \u001b[38;5;28mself\u001b[39m\u001b[38;5;241m.\u001b[39mworking_list:\n\u001b[0;32m    124\u001b[0m     \u001b[38;5;28;01mfor\u001b[39;00m pass_ \u001b[38;5;129;01min\u001b[39;00m passset:\n\u001b[1;32m--> 125\u001b[0m         dag \u001b[38;5;241m=\u001b[39m \u001b[38;5;28;43mself\u001b[39;49m\u001b[38;5;241;43m.\u001b[39;49m\u001b[43m_do_pass\u001b[49m\u001b[43m(\u001b[49m\u001b[43mpass_\u001b[49m\u001b[43m,\u001b[49m\u001b[43m \u001b[49m\u001b[43mdag\u001b[49m\u001b[43m,\u001b[49m\u001b[43m \u001b[49m\u001b[43mpassset\u001b[49m\u001b[38;5;241;43m.\u001b[39;49m\u001b[43moptions\u001b[49m\u001b[43m)\u001b[49m\n\u001b[0;32m    127\u001b[0m circuit \u001b[38;5;241m=\u001b[39m dag_to_circuit(dag, copy_operations\u001b[38;5;241m=\u001b[39m\u001b[38;5;28;01mFalse\u001b[39;00m)\n\u001b[0;32m    128\u001b[0m \u001b[38;5;28;01mif\u001b[39;00m output_name:\n",
      "File \u001b[1;32mD:\\dev\\qiskit\\qiskit-0-43-1\\lib\\site-packages\\qiskit\\transpiler\\runningpassmanager.py:173\u001b[0m, in \u001b[0;36mRunningPassManager._do_pass\u001b[1;34m(self, pass_, dag, options)\u001b[0m\n\u001b[0;32m    171\u001b[0m \u001b[38;5;66;03m# Run the pass itself, if not already run\u001b[39;00m\n\u001b[0;32m    172\u001b[0m \u001b[38;5;28;01mif\u001b[39;00m pass_ \u001b[38;5;129;01mnot\u001b[39;00m \u001b[38;5;129;01min\u001b[39;00m \u001b[38;5;28mself\u001b[39m\u001b[38;5;241m.\u001b[39mvalid_passes:\n\u001b[1;32m--> 173\u001b[0m     dag \u001b[38;5;241m=\u001b[39m \u001b[38;5;28;43mself\u001b[39;49m\u001b[38;5;241;43m.\u001b[39;49m\u001b[43m_run_this_pass\u001b[49m\u001b[43m(\u001b[49m\u001b[43mpass_\u001b[49m\u001b[43m,\u001b[49m\u001b[43m \u001b[49m\u001b[43mdag\u001b[49m\u001b[43m)\u001b[49m\n\u001b[0;32m    175\u001b[0m     \u001b[38;5;66;03m# update the valid_passes property\u001b[39;00m\n\u001b[0;32m    176\u001b[0m     \u001b[38;5;28mself\u001b[39m\u001b[38;5;241m.\u001b[39m_update_valid_passes(pass_)\n",
      "File \u001b[1;32mD:\\dev\\qiskit\\qiskit-0-43-1\\lib\\site-packages\\qiskit\\transpiler\\runningpassmanager.py:202\u001b[0m, in \u001b[0;36mRunningPassManager._run_this_pass\u001b[1;34m(self, pass_, dag)\u001b[0m\n\u001b[0;32m    199\u001b[0m \u001b[38;5;28;01mif\u001b[39;00m pass_\u001b[38;5;241m.\u001b[39mis_transformation_pass:\n\u001b[0;32m    200\u001b[0m     \u001b[38;5;66;03m# Measure time if we have a callback or logging set\u001b[39;00m\n\u001b[0;32m    201\u001b[0m     start_time \u001b[38;5;241m=\u001b[39m time()\n\u001b[1;32m--> 202\u001b[0m     new_dag \u001b[38;5;241m=\u001b[39m \u001b[43mpass_\u001b[49m\u001b[38;5;241;43m.\u001b[39;49m\u001b[43mrun\u001b[49m\u001b[43m(\u001b[49m\u001b[43mdag\u001b[49m\u001b[43m)\u001b[49m\n\u001b[0;32m    203\u001b[0m     end_time \u001b[38;5;241m=\u001b[39m time()\n\u001b[0;32m    204\u001b[0m     run_time \u001b[38;5;241m=\u001b[39m end_time \u001b[38;5;241m-\u001b[39m start_time\n",
      "File \u001b[1;32mD:\\dev\\qiskit\\qiskit-0-43-1\\lib\\site-packages\\qiskit\\transpiler\\passes\\basis\\basis_translator.py:211\u001b[0m, in \u001b[0;36mBasisTranslator.run\u001b[1;34m(self, dag)\u001b[0m\n\u001b[0;32m    206\u001b[0m logger\u001b[38;5;241m.\u001b[39minfo(\n\u001b[0;32m    207\u001b[0m     \u001b[38;5;124m\"\u001b[39m\u001b[38;5;124mBasis translation path search completed in \u001b[39m\u001b[38;5;132;01m%.3f\u001b[39;00m\u001b[38;5;124ms.\u001b[39m\u001b[38;5;124m\"\u001b[39m, search_end_time \u001b[38;5;241m-\u001b[39m search_start_time\n\u001b[0;32m    208\u001b[0m )\n\u001b[0;32m    210\u001b[0m \u001b[38;5;28;01mif\u001b[39;00m basis_transforms \u001b[38;5;129;01mis\u001b[39;00m \u001b[38;5;28;01mNone\u001b[39;00m:\n\u001b[1;32m--> 211\u001b[0m     \u001b[38;5;28;01mraise\u001b[39;00m TranspilerError(\n\u001b[0;32m    212\u001b[0m         \u001b[38;5;124m\"\u001b[39m\u001b[38;5;124mUnable to translate the operations in the circuit: \u001b[39m\u001b[38;5;124m\"\u001b[39m\n\u001b[0;32m    213\u001b[0m         \u001b[38;5;124mf\u001b[39m\u001b[38;5;124m\"\u001b[39m\u001b[38;5;132;01m{\u001b[39;00m[x[\u001b[38;5;241m0\u001b[39m]\u001b[38;5;250m \u001b[39m\u001b[38;5;28;01mfor\u001b[39;00m\u001b[38;5;250m \u001b[39mx\u001b[38;5;250m \u001b[39m\u001b[38;5;129;01min\u001b[39;00m\u001b[38;5;250m \u001b[39msource_basis]\u001b[38;5;132;01m}\u001b[39;00m\u001b[38;5;124m to the backend\u001b[39m\u001b[38;5;124m'\u001b[39m\u001b[38;5;124ms (or manually specified) target \u001b[39m\u001b[38;5;124m\"\u001b[39m\n\u001b[0;32m    214\u001b[0m         \u001b[38;5;124mf\u001b[39m\u001b[38;5;124m\"\u001b[39m\u001b[38;5;124mbasis: \u001b[39m\u001b[38;5;132;01m{\u001b[39;00m\u001b[38;5;28mlist\u001b[39m(target_basis)\u001b[38;5;132;01m}\u001b[39;00m\u001b[38;5;124m. This likely means the target basis is not universal \u001b[39m\u001b[38;5;124m\"\u001b[39m\n\u001b[0;32m    215\u001b[0m         \u001b[38;5;124m\"\u001b[39m\u001b[38;5;124mor there are additional equivalence rules needed in the EquivalenceLibrary being \u001b[39m\u001b[38;5;124m\"\u001b[39m\n\u001b[0;32m    216\u001b[0m         \u001b[38;5;124m\"\u001b[39m\u001b[38;5;124mused. For more details on this error see: \u001b[39m\u001b[38;5;124m\"\u001b[39m\n\u001b[0;32m    217\u001b[0m         \u001b[38;5;124m\"\u001b[39m\u001b[38;5;124mhttps://qiskit.org/documentation/stubs/qiskit.transpiler.passes.BasisTranslator.\u001b[39m\u001b[38;5;124m\"\u001b[39m\n\u001b[0;32m    218\u001b[0m         \u001b[38;5;124m\"\u001b[39m\u001b[38;5;124mhtml#translation_errors\u001b[39m\u001b[38;5;124m\"\u001b[39m\n\u001b[0;32m    219\u001b[0m     )\n\u001b[0;32m    221\u001b[0m \u001b[38;5;66;03m# Compose found path into a set of instruction substitution rules.\u001b[39;00m\n\u001b[0;32m    223\u001b[0m compose_start_time \u001b[38;5;241m=\u001b[39m time\u001b[38;5;241m.\u001b[39mtime()\n",
      "\u001b[1;31mTranspilerError\u001b[0m: \"Unable to translate the operations in the circuit: ['cx', 'carry'] to the backend's (or manually specified) target basis: ['reset', 'delay', 'carry', 'CXGate', 'barrier', 'snapshot', 'measure', 'sum_gate']. This likely means the target basis is not universal or there are additional equivalence rules needed in the EquivalenceLibrary being used. For more details on this error see: https://qiskit.org/documentation/stubs/qiskit.transpiler.passes.BasisTranslator.html#translation_errors\""
     ]
    }
   ],
   "source": [
    "# telling transpiler not to decompose\n",
    "qc_transed = transpile(custom_circ, basis_gates=basis_gates)\n",
    "qc_transed.draw()"
   ]
  },
  {
   "cell_type": "code",
   "execution_count": 15,
   "id": "e0f63ed2",
   "metadata": {},
   "outputs": [
    {
     "data": {
      "text/html": [
       "<pre style=\"word-wrap: normal;white-space: pre;background: #fff0;line-height: 1.1;font-family: &quot;Courier New&quot;,Courier,monospace\">             ┌────────┐     \n",
       "q_0: ────────┤0       ├──■──\n",
       "     ┌──────┐│        │  │  \n",
       "q_1: ┤0     ├┤1       ├──┼──\n",
       "     │      ││  carry │  │  \n",
       "q_2: ┤1 sum ├┤2       ├──┼──\n",
       "     │      ││        │┌─┴─┐\n",
       "q_3: ┤2     ├┤3       ├┤ X ├\n",
       "     └──────┘└────────┘└───┘</pre>"
      ],
      "text/plain": [
       "             ┌────────┐     \n",
       "q_0: ────────┤0       ├──■──\n",
       "     ┌──────┐│        │  │  \n",
       "q_1: ┤0     ├┤1       ├──┼──\n",
       "     │      ││  carry │  │  \n",
       "q_2: ┤1 sum ├┤2       ├──┼──\n",
       "     │      ││        │┌─┴─┐\n",
       "q_3: ┤2     ├┤3       ├┤ X ├\n",
       "     └──────┘└────────┘└───┘"
      ]
     },
     "execution_count": 15,
     "metadata": {},
     "output_type": "execute_result"
    }
   ],
   "source": [
    "from qiskit.compiler import transpile\n",
    "from qiskit.circuit.equivalence_library import SessionEquivalenceLibrary \n",
    "\n",
    "basis_gates = ['CXGate', 'carry', 'sum_gate']\n",
    "\n",
    "custom_circ = QuantumCircuit(4)\n",
    "custom_circ.append(sum_gate, range(1,4))\n",
    "custom_circ.append(carry, range(4))\n",
    "custom_circ.append(CXGate(), (0, 3))\n",
    "\n",
    "custom_circ.draw()"
   ]
  },
  {
   "cell_type": "code",
   "execution_count": 19,
   "id": "04bd49f6",
   "metadata": {},
   "outputs": [
    {
     "ename": "CircuitError",
     "evalue": "'Cannot add equivalence between circuit and gate of different shapes. Gate: 3 qubits and 0 clbits. Circuit: 4 qubits and 0 clbits.'",
     "output_type": "error",
     "traceback": [
      "\u001b[1;31m---------------------------------------------------------------------------\u001b[0m",
      "\u001b[1;31mCircuitError\u001b[0m                              Traceback (most recent call last)",
      "Cell \u001b[1;32mIn[19], line 9\u001b[0m\n\u001b[0;32m      7\u001b[0m carry_def\u001b[38;5;241m.\u001b[39mappend(carry, \u001b[38;5;28mrange\u001b[39m(\u001b[38;5;241m4\u001b[39m))\n\u001b[0;32m      8\u001b[0m carry_def\u001b[38;5;241m.\u001b[39mdraw()\n\u001b[1;32m----> 9\u001b[0m \u001b[43mSessionEquivalenceLibrary\u001b[49m\u001b[38;5;241;43m.\u001b[39;49m\u001b[43madd_equivalence\u001b[49m\u001b[43m(\u001b[49m\u001b[43mCCXGate\u001b[49m\u001b[43m(\u001b[49m\u001b[43m)\u001b[49m\u001b[43m,\u001b[49m\u001b[43m \u001b[49m\u001b[43mcarry\u001b[49m\u001b[43m)\u001b[49m\n",
      "File \u001b[1;32mD:\\dev\\qiskit\\qiskit-0-43-1\\lib\\site-packages\\qiskit\\circuit\\equivalence.py:89\u001b[0m, in \u001b[0;36mEquivalenceLibrary.add_equivalence\u001b[1;34m(self, gate, equivalent_circuit)\u001b[0m\n\u001b[0;32m     74\u001b[0m \u001b[38;5;28;01mdef\u001b[39;00m \u001b[38;5;21madd_equivalence\u001b[39m(\u001b[38;5;28mself\u001b[39m, gate, equivalent_circuit):\n\u001b[0;32m     75\u001b[0m \u001b[38;5;250m    \u001b[39m\u001b[38;5;124;03m\"\"\"Add a new equivalence to the library. Future queries for the Gate\u001b[39;00m\n\u001b[0;32m     76\u001b[0m \u001b[38;5;124;03m    will include the given circuit, in addition to all existing equivalences\u001b[39;00m\n\u001b[0;32m     77\u001b[0m \u001b[38;5;124;03m    (including those from base).\u001b[39;00m\n\u001b[1;32m   (...)\u001b[0m\n\u001b[0;32m     86\u001b[0m \u001b[38;5;124;03m            implementing the given Gate.\u001b[39;00m\n\u001b[0;32m     87\u001b[0m \u001b[38;5;124;03m    \"\"\"\u001b[39;00m\n\u001b[1;32m---> 89\u001b[0m     \u001b[43m_raise_if_shape_mismatch\u001b[49m\u001b[43m(\u001b[49m\u001b[43mgate\u001b[49m\u001b[43m,\u001b[49m\u001b[43m \u001b[49m\u001b[43mequivalent_circuit\u001b[49m\u001b[43m)\u001b[49m\n\u001b[0;32m     90\u001b[0m     _raise_if_param_mismatch(gate\u001b[38;5;241m.\u001b[39mparams, equivalent_circuit\u001b[38;5;241m.\u001b[39mparameters)\n\u001b[0;32m     92\u001b[0m     key \u001b[38;5;241m=\u001b[39m Key(name\u001b[38;5;241m=\u001b[39mgate\u001b[38;5;241m.\u001b[39mname, num_qubits\u001b[38;5;241m=\u001b[39mgate\u001b[38;5;241m.\u001b[39mnum_qubits)\n",
      "File \u001b[1;32mD:\\dev\\qiskit\\qiskit-0-43-1\\lib\\site-packages\\qiskit\\circuit\\equivalence.py:276\u001b[0m, in \u001b[0;36m_raise_if_shape_mismatch\u001b[1;34m(gate, circuit)\u001b[0m\n\u001b[0;32m    274\u001b[0m \u001b[38;5;28;01mdef\u001b[39;00m \u001b[38;5;21m_raise_if_shape_mismatch\u001b[39m(gate, circuit):\n\u001b[0;32m    275\u001b[0m     \u001b[38;5;28;01mif\u001b[39;00m gate\u001b[38;5;241m.\u001b[39mnum_qubits \u001b[38;5;241m!=\u001b[39m circuit\u001b[38;5;241m.\u001b[39mnum_qubits \u001b[38;5;129;01mor\u001b[39;00m gate\u001b[38;5;241m.\u001b[39mnum_clbits \u001b[38;5;241m!=\u001b[39m circuit\u001b[38;5;241m.\u001b[39mnum_clbits:\n\u001b[1;32m--> 276\u001b[0m         \u001b[38;5;28;01mraise\u001b[39;00m CircuitError(\n\u001b[0;32m    277\u001b[0m             \u001b[38;5;124m\"\u001b[39m\u001b[38;5;124mCannot add equivalence between circuit and gate \u001b[39m\u001b[38;5;124m\"\u001b[39m\n\u001b[0;32m    278\u001b[0m             \u001b[38;5;124m\"\u001b[39m\u001b[38;5;124mof different shapes. Gate: \u001b[39m\u001b[38;5;132;01m{}\u001b[39;00m\u001b[38;5;124m qubits and \u001b[39m\u001b[38;5;132;01m{}\u001b[39;00m\u001b[38;5;124m clbits. \u001b[39m\u001b[38;5;124m\"\u001b[39m\n\u001b[0;32m    279\u001b[0m             \u001b[38;5;124m\"\u001b[39m\u001b[38;5;124mCircuit: \u001b[39m\u001b[38;5;132;01m{}\u001b[39;00m\u001b[38;5;124m qubits and \u001b[39m\u001b[38;5;132;01m{}\u001b[39;00m\u001b[38;5;124m clbits.\u001b[39m\u001b[38;5;124m\"\u001b[39m\u001b[38;5;241m.\u001b[39mformat(\n\u001b[0;32m    280\u001b[0m                 gate\u001b[38;5;241m.\u001b[39mnum_qubits, gate\u001b[38;5;241m.\u001b[39mnum_clbits, circuit\u001b[38;5;241m.\u001b[39mnum_qubits, circuit\u001b[38;5;241m.\u001b[39mnum_clbits\n\u001b[0;32m    281\u001b[0m             )\n\u001b[0;32m    282\u001b[0m         )\n",
      "\u001b[1;31mCircuitError\u001b[0m: 'Cannot add equivalence between circuit and gate of different shapes. Gate: 3 qubits and 0 clbits. Circuit: 4 qubits and 0 clbits.'"
     ]
    }
   ],
   "source": [
    "sum_def = QuantumCircuit(3)\n",
    "sum_def.append(sum_gate, range(3))\n",
    "sum_def.draw()\n",
    "SessionEquivalenceLibrary.add_equivalence(CCXGate(), sum_def)\n",
    "\n",
    "carry_def = QuantumCircuit(4)\n",
    "carry_def.append(carry, range(4))\n",
    "carry_def.draw()\n",
    "SessionEquivalenceLibrary.add_equivalence(CCXGate(), carry)"
   ]
  }
 ],
 "metadata": {
  "kernelspec": {
   "display_name": "Python 3 (ipykernel)",
   "language": "python",
   "name": "python3"
  },
  "language_info": {
   "codemirror_mode": {
    "name": "ipython",
    "version": 3
   },
   "file_extension": ".py",
   "mimetype": "text/x-python",
   "name": "python",
   "nbconvert_exporter": "python",
   "pygments_lexer": "ipython3",
   "version": "3.10.6"
  }
 },
 "nbformat": 4,
 "nbformat_minor": 5
}
