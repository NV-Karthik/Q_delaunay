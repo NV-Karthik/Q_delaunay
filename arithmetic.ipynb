{
 "cells": [
  {
   "cell_type": "code",
   "execution_count": 1,
   "id": "8d3dfd9e",
   "metadata": {},
   "outputs": [],
   "source": [
    "from qiskit import *\n",
    "from qiskit.circuit.library import DraperQFTAdder, RGQFTMultiplier\n",
    "from qiskit.quantum_info import Statevector, partial_trace\n",
    "from qiskit import Aer\n",
    "from qiskit.visualization import plot_histogram\n",
    "from qiskit_ibm_provider import IBMProvider\n",
    "from qiskit.tools.monitor import job_monitor\n",
    "\n",
    "from matplotlib.pyplot import figure"
   ]
  },
  {
   "cell_type": "markdown",
   "id": "d7130039",
   "metadata": {},
   "source": [
    "### 2 bit Adder Circuit"
   ]
  },
  {
   "cell_type": "code",
   "execution_count": 3,
   "id": "f21e94b8",
   "metadata": {},
   "outputs": [],
   "source": [
    "# Enter values to be added\n",
    "a_val = 1\n",
    "b_val = 1\n",
    "\n",
    "a = QuantumRegister(1, 'a')\n",
    "b = QuantumRegister(1, 'b')\n",
    "c = QuantumRegister(1, 'c')\n",
    "cl = ClassicalRegister(2)\n",
    "\n",
    "two_bit_adder = QuantumCircuit(a, b, c, cl)\n",
    "\n",
    "state_1 = Statevector.from_int(1, 2**1) # if dims (2nd arg) == 2**n n qubit state is initialised\n",
    "state_2 = Statevector.from_int(1, 2**1)\n",
    "\n",
    "two_bit_adder.initialize(state_1, 0)\n",
    "two_bit_adder.initialize(state_2, 1)\n",
    "two_bit_adder.reset(c) # unnecessary but to ensure c qubit is set to |0> state before addition\n",
    "two_bit_adder.barrier()\n",
    "\n",
    "two_bit_adder.ccx(a, b, c) # and gate ==> toffoli gate\n",
    "two_bit_adder.cx(a, b) # xor gate ==> cx gate\n",
    "\n",
    "two_bit_adder.barrier()\n",
    "\n",
    "# to run on a quantum computer\n",
    "two_bit_adder.measure(range(1,3), range(2))\n",
    "\n",
    "two_bit_adder.draw('mpl').savefig('classical.jpg')"
   ]
  },
  {
   "cell_type": "code",
   "execution_count": 4,
   "id": "7a9fcede",
   "metadata": {},
   "outputs": [
    {
     "name": "stdout",
     "output_type": "stream",
     "text": [
      "\r",
      "Job Status: job has successfully run\n"
     ]
    }
   ],
   "source": [
    "# state_1 = Statevector.from_int(0, 2**1) # if dims (2nd arg) == 2**n n qubit state is initialised\n",
    "# state_2 = Statevector.from_int(1, 2**1)\n",
    "# state_3 = Statevector.from_int(0, 2**1)\n",
    "\n",
    "# state_in = state_1.expand(state_2).expand(state_3) # |1> |2> |3>\n",
    "\n",
    "# state_in.draw('latex')\n",
    "\n",
    "# state_out = state_in.evolve(two_bit_adder)\n",
    "# state_out2 = partial_trace(state_out, [0])\n",
    "# print(state_out.probabilities_dict())\n",
    "# print(state_out2.probabilities_dict())\n",
    "\n",
    "# Simulation\n",
    "\n",
    "\n",
    "simulator = Aer.get_backend('aer_simulator')\n",
    "\n",
    "provider = IBMProvider()\n",
    "backend = provider.get_backend('ibmq_qasm_simulator')\n",
    "\n",
    "job = backend.run(two_bit_adder)\n",
    "job_monitor(job)"
   ]
  },
  {
   "cell_type": "code",
   "execution_count": 5,
   "id": "e883662e",
   "metadata": {},
   "outputs": [
    {
     "name": "stdout",
     "output_type": "stream",
     "text": [
      "{2: 1.0}\n"
     ]
    },
    {
     "data": {
      "image/png": "[encoded data removed]",
      "text/plain": [
       "<Figure size 400x300 with 1 Axes>"
      ]
     },
     "execution_count": 5,
     "metadata": {},
     "output_type": "execute_result"
    }
   ],
   "source": [
    "num_shots = 4000 # for cloud simulator\n",
    "counts = job.result().get_counts(two_bit_adder)\n",
    "counts = {int(key, 2): value / num_shots for key, value in counts.items()}\n",
    "print(counts)\n",
    "plot_histogram(counts, figsize=(4,3))"
   ]
  },
  {
   "cell_type": "code",
   "execution_count": 6,
   "id": "e9dff839",
   "metadata": {},
   "outputs": [],
   "source": [
    "def twos_comp(val, bits):\n",
    "    \"\"\"compute the 2's complement of int value val\"\"\"\n",
    "    if (val & (1 << (bits - 1))) != 0: # if sign bit is set e.g., 8bit: 128-255\n",
    "        val = val - (1 << bits)        # compute negative value\n",
    "    return val                         # return positive value as is"
   ]
  },
  {
   "cell_type": "markdown",
   "id": "6a9d271a",
   "metadata": {},
   "source": [
    "### Draper Addition operator"
   ]
  },
  {
   "cell_type": "code",
   "execution_count": 7,
   "id": "0543997a",
   "metadata": {},
   "outputs": [
    {
     "data": {
      "text/plain": [
       "<qiskit.circuit.instructionset.InstructionSet at 0x2916da27040>"
      ]
     },
     "execution_count": 7,
     "metadata": {},
     "output_type": "execute_result"
    }
   ],
   "source": [
    "draper_adder = QuantumCircuit(4)\n",
    "gate = DraperQFTAdder(2, kind='fixed', name='adder')\n",
    "\n",
    "draper_adder.append(gate, range(4))"
   ]
  },
  {
   "cell_type": "code",
   "execution_count": 8,
   "id": "1c243d84",
   "metadata": {},
   "outputs": [
    {
     "data": {
      "text/latex": [
       "$$ |11100\\rangle$$"
      ],
      "text/plain": [
       "<IPython.core.display.Latex object>"
      ]
     },
     "execution_count": 8,
     "metadata": {},
     "output_type": "execute_result"
    }
   ],
   "source": [
    "state_a = Statevector.from_int(-1, 2**2)\n",
    "state_b = Statevector.from_int(2, 2**2)\n",
    "state_c = Statevector.from_int(0, 2**1)\n",
    "\n",
    "state = state_a.tensor(state_b)\n",
    "state = state.tensor(state_c)\n",
    "\n",
    "state.draw('latex')"
   ]
  },
  {
   "cell_type": "code",
   "execution_count": 9,
   "id": "6f6d6c30",
   "metadata": {
    "scrolled": false
   },
   "outputs": [
    {
     "name": "stdout",
     "output_type": "stream",
     "text": [
      "     ┌──────────┐\n",
      "b_3: ┤7         ├\n",
      "     │          │\n",
      "b_2: ┤6         ├\n",
      "     │          │\n",
      "b_1: ┤5         ├\n",
      "     │          │\n",
      "b_0: ┤4         ├\n",
      "     │  draper+ │\n",
      "a_3: ┤3         ├\n",
      "     │          │\n",
      "a_2: ┤2         ├\n",
      "     │          │\n",
      "a_1: ┤1         ├\n",
      "     │          │\n",
      "a_0: ┤0         ├\n",
      "     └──────────┘\n",
      "{15: 1.0}\n"
     ]
    }
   ],
   "source": [
    "# Draper Addition fixed --> (x + y) mod(2**num_qubits)\n",
    "\n",
    "a_val = -3\n",
    "b_val = +3\n",
    "\n",
    "num_qubits = 4\n",
    "draper_adder = DraperQFTAdder(num_qubits, kind='fixed', name='draper+')\n",
    "\n",
    "x = Statevector.from_int(-3, 2**num_qubits)\n",
    "y = Statevector.from_int(2, 2**num_qubits)\n",
    "# z = Statevector.from_int(0, 2**num_qubits)\n",
    "initial_state = x.tensor(y)\n",
    "final_state = initial_state.evolve(draper_adder)\n",
    "final_state_traced = partial_trace(final_state, list(range(num_qubits)))\n",
    "s = final_state_traced.probabilities_dict(decimals=4)\n",
    "\n",
    "print(draper_adder.draw(reverse_bits=True))\n",
    "print({int(k, 2): v for k, v in s.items()})"
   ]
  },
  {
   "cell_type": "code",
   "execution_count": 10,
   "id": "10de8f24",
   "metadata": {},
   "outputs": [
    {
     "name": "stdout",
     "output_type": "stream",
     "text": [
      "{'1111': 1.0}\n",
      "-1\n"
     ]
    }
   ],
   "source": [
    "print(s)\n",
    "binary_fixed = list(s.keys())[0]\n",
    "# binary_string = '11111'\n",
    "print(twos_comp(int(binary_fixed,2), len(binary_fixed)))"
   ]
  },
  {
   "cell_type": "code",
   "execution_count": 14,
   "id": "6b8d9d23",
   "metadata": {},
   "outputs": [],
   "source": [
    "# draper addition half\n",
    "num_qubits = 2\n",
    "draper_adder = DraperQFTAdder(num_qubits, kind='half', name='draper+')\n",
    "\n",
    "x = Statevector.from_int(-3, 2**num_qubits)\n",
    "y = Statevector.from_int(2, 2**num_qubits)\n",
    "z = Statevector.from_int(0, 2**1)\n",
    "initial_state = z.tensor(y).tensor(x)\n",
    "final_state = initial_state.evolve(draper_adder)\n",
    "final_state_traced = partial_trace(final_state, list(range(num_qubits)))\n",
    "s = final_state_traced.probabilities_dict(decimals=4)\n",
    "\n",
    "fig = draper_adder.decompose().draw('mpl')\n",
    "fig.savefig('adder.jpg')"
   ]
  },
  {
   "cell_type": "code",
   "execution_count": 45,
   "id": "379dfb2d",
   "metadata": {},
   "outputs": [
    {
     "name": "stdout",
     "output_type": "stream",
     "text": [
      "{15: 1.0}\n",
      "{'01111': 1.0}\n"
     ]
    }
   ],
   "source": [
    "print({int(k, 2): v for k, v in s.items()})\n",
    "print(s)"
   ]
  },
  {
   "cell_type": "code",
   "execution_count": 46,
   "id": "4f1b789f",
   "metadata": {},
   "outputs": [
    {
     "name": "stdout",
     "output_type": "stream",
     "text": [
      "15\n"
     ]
    }
   ],
   "source": [
    "binary_string = list(s.keys())[0]\n",
    "# binary_string = '11111'\n",
    "print(twos_comp(int(binary_string,2), len(binary_string)))"
   ]
  },
  {
   "cell_type": "code",
   "execution_count": 68,
   "id": "fd662a72",
   "metadata": {},
   "outputs": [
    {
     "name": "stdout",
     "output_type": "stream",
     "text": [
      "-0b11\n"
     ]
    }
   ],
   "source": [
    "bbb = bin(-3)\n",
    "bin((-1 << 4)-1 & -5)\n",
    "print(bbb)"
   ]
  },
  {
   "cell_type": "code",
   "execution_count": 69,
   "id": "ab4800e2",
   "metadata": {},
   "outputs": [
    {
     "data": {
      "text/plain": [
       "-35"
      ]
     },
     "execution_count": 69,
     "metadata": {},
     "output_type": "execute_result"
    }
   ],
   "source": [
    "twos_comp(int(bbb,2), len(bbb))"
   ]
  },
  {
   "cell_type": "markdown",
   "id": "ae4f5b4b",
   "metadata": {},
   "source": [
    "## Perez QFT multiplier - out of place mult - total = 4 * no. of qubits for single num"
   ]
  },
  {
   "cell_type": "code",
   "execution_count": 32,
   "id": "63481770",
   "metadata": {},
   "outputs": [],
   "source": [
    "num_qubits = 2\n",
    "multiplier = RGQFTMultiplier(num_qubits, name='QFT multi')\n",
    "\n",
    "x = Statevector.from_int(1, 2**num_qubits)\n",
    "y = Statevector.from_int(0, 2**num_qubits)\n",
    "z = Statevector.from_int(0, 2**(2*num_qubits))\n",
    "initial_state_m = z.tensor(y).tensor(x)\n",
    "final_state_m = initial_state_m.evolve(multiplier)\n",
    "final_state_traced_m = partial_trace(final_state_m, list(range(2*num_qubits)))\n",
    "s_mul = final_state_traced_m.probabilities_dict(decimals=4)\n",
    "\n",
    "fig2 = multiplier.decompose().draw('mpl', fold=14)\n",
    "fig2.savefig('multiplier.jpg')"
   ]
  },
  {
   "cell_type": "code",
   "execution_count": 40,
   "id": "7688395c",
   "metadata": {},
   "outputs": [
    {
     "name": "stdout",
     "output_type": "stream",
     "text": [
      "{42: 1.0}\n",
      "{'0000101010': 1.0}\n"
     ]
    }
   ],
   "source": [
    "print({int(k, 2): v for k, v in s_mul.items()})\n",
    "print(s_mul)"
   ]
  },
  {
   "cell_type": "code",
   "execution_count": null,
   "id": "0672ce14",
   "metadata": {},
   "outputs": [],
   "source": []
  }
 ],
 "metadata": {
  "kernelspec": {
   "display_name": "Python 3 (ipykernel)",
   "language": "python",
   "name": "python3"
  },
  "language_info": {
   "codemirror_mode": {
    "name": "ipython",
    "version": 3
   },
   "file_extension": ".py",
   "mimetype": "text/x-python",
   "name": "python",
   "nbconvert_exporter": "python",
   "pygments_lexer": "ipython3",
   "version": "3.10.6"
  }
 },
 "nbformat": 4,
 "nbformat_minor": 5
}
